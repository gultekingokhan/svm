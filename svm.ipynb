{
 "cells": [
  {
   "cell_type": "code",
   "execution_count": 1,
   "metadata": {},
   "outputs": [
    {
     "name": "stdout",
     "output_type": "stream",
     "text": [
      "no. of Chris training emails: 7936\n",
      "no. of Sara training emails: 7884\n",
      "[LibSVM]training time:  0.113 s\n",
      "Prediction time:  0.954 s\n",
      "Accuracy:  0.8924914675767918\n",
      "PREDICTIONS:  1 0 1\n"
     ]
    }
   ],
   "source": [
    "#!/usr/bin/python\n",
    "\n",
    "\"\"\" \n",
    "    This is the code to accompany the Lesson 2 (SVM) mini-project.\n",
    "\n",
    "    Use a SVM to identify emails from the Enron corpus by their authors:    \n",
    "    Sara has label 0\n",
    "    Chris has label 1\n",
    "\"\"\"\n",
    "    \n",
    "import sys\n",
    "from time import time\n",
    "sys.path.append(\"../tools/\")\n",
    "from email_preprocess import preprocess\n",
    "\n",
    "features_train, features_test, labels_train, labels_test = preprocess()\n",
    "\n",
    "features_train = features_train[:len(features_train)/100] # To decrease the size of the training set.\n",
    "labels_train = labels_train[:len(labels_train)/100]\n",
    "\n",
    "from sklearn.svm import SVC\n",
    "from sklearn.metrics import accuracy_score\n",
    "\n",
    "classifier = SVC(C=10000.0, kernel='rbf', gamma='auto', verbose=True)\n",
    "\n",
    "t0 = time()\n",
    "\n",
    "classifier.fit(features_train, labels_train)\n",
    "\n",
    "print \"training time: \", round(time()-t0, 3), \"s\"\n",
    "\n",
    "t1 = time()\n",
    "\n",
    "labels_predicted = classifier.predict(features_test)\n",
    "\n",
    "print \"Prediction time: \", round(time()-t1, 3), \"s\"\n",
    "\n",
    "print \"Accuracy: \", accuracy_score(labels_test, labels_predicted)\n",
    "\n",
    "print \"PREDICTIONS: \", labels_predicted[10], labels_predicted[26], labels_predicted[50]"
   ]
  }
 ],
 "metadata": {
  "kernelspec": {
   "display_name": "Python 2",
   "language": "python",
   "name": "python2"
  },
  "language_info": {
   "codemirror_mode": {
    "name": "ipython",
    "version": 2
   },
   "file_extension": ".py",
   "mimetype": "text/x-python",
   "name": "python",
   "nbconvert_exporter": "python",
   "pygments_lexer": "ipython2",
   "version": "2.7.16"
  }
 },
 "nbformat": 4,
 "nbformat_minor": 2
}
